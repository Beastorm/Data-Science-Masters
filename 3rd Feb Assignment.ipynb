{
 "cells": [
  {
   "cell_type": "markdown",
   "id": "e2d46278-5954-4fd7-9135-5e0496915145",
   "metadata": {},
   "source": [
    "##### Q1. Which keyword is used to create a function? Create a function to return a list of odd numbers in the\n",
    "range of 1 to 25."
   ]
  },
  {
   "cell_type": "markdown",
   "id": "89f04cbd-b4fa-4012-bc0b-90717569a516",
   "metadata": {},
   "source": [
    "Answer: we use def keyword to create the function in python. \n",
    "\n",
    "def generateOddNumber():\n",
    "    \n",
    "    for i in range(1,26):\n",
    "        if i%2 != 0:\n",
    "            print(i)\n",
    "\n",
    "generateOddNumber()            "
   ]
  },
  {
   "cell_type": "markdown",
   "id": "bac0ad2e-4ce1-44a1-bba0-e7318912f6cf",
   "metadata": {},
   "source": [
    "##### Q2: Why *args and **kwargs is used in some functions? Create a function each for *args and **kwargs to demonstrate their use."
   ]
  },
  {
   "cell_type": "markdown",
   "id": "aa2393db-1483-4c63-a8eb-e71e8ff1f5b5",
   "metadata": {},
   "source": [
    "*args(Non-Keyword Arguments): we use this to accept a variable number of arguments in the function, but it \n",
    " accept a non-keyworded variable number of arguments only.\n",
    "\n",
    "**kwargs(Keyword Arguments): we use this to accept variable number arguments in a function, but it \n",
    " accept a keyworded variable number of arguments only.\n",
    "    \n",
    "    \n",
    "  eg: *args\n",
    "    \n",
    "def myFun(a,*args):\n",
    "    for arg in args:\n",
    "        print(args)\n",
    "  \n",
    "  \n",
    "myFun(1, 2, 3)\n",
    "\n",
    "\n",
    "eg: **kwargs\n",
    "\n",
    "def myFun(**kwargs):\n",
    "    for arg in kwargs:\n",
    "        print(arg)\n",
    "  \n",
    "\n",
    "myFun(first=1, mid=2, last=3)"
   ]
  },
  {
   "cell_type": "markdown",
   "id": "1b541c32-6557-4a6e-a519-dd920079ddf6",
   "metadata": {},
   "source": [
    "Q3. What is an iterator in python? Name the method used to initialise the iterator object and the method\n",
    "used for iteration. Use these methods to print the first five elements of the given list [2, 4, 6, 8, 10, 12, 14, 16,\n",
    "18, 20]."
   ]
  },
  {
   "cell_type": "markdown",
   "id": "efe6940e-1dfa-407a-801f-08be25a11d95",
   "metadata": {},
   "source": [
    "Answer: iterator is an object on which we can iterate upon.\n",
    "we use iter() method to initialize the iterator object and next() method used to for iteration.\n",
    "\n",
    "\n",
    "list = [2, 4, 6, 8, 10, 12, 14, 16,\n",
    "18, 20]\n",
    "\n",
    "itr= iter(list)\n",
    "\n",
    "print(next(itr))\n",
    "print(next(itr))\n",
    "print(next(itr))\n",
    "print(next(itr))\n",
    "print(next(itr))"
   ]
  },
  {
   "cell_type": "markdown",
   "id": "a32b9e53-6911-4962-8c12-b9fe4a4ffed4",
   "metadata": {},
   "source": [
    "Q4. What is a generator function in python? Why yield keyword is used? Give an example of a generator\n",
    "function."
   ]
  },
  {
   "cell_type": "code",
   "execution_count": null,
   "id": "ed3cc7c2-0657-434c-aecf-f0f0b7cfc32b",
   "metadata": {},
   "outputs": [],
   "source": [
    "Answer: A generator function is used to get values in a sequence manner rather that emitting all values at once.\n",
    "we use the yield keyword to emit value one at a time.\n",
    "\n",
    "eg:\n",
    "def testFn(n) :\n",
    "    \n",
    "    for i in range(0,n):\n",
    "        yield i \n",
    "        \n",
    "\n",
    "for j in testFn(10):\n",
    "    print(j)\n",
    "        \n",
    "        "
   ]
  },
  {
   "cell_type": "markdown",
   "id": "295ab286-0a01-4467-91e8-7377684b6d8b",
   "metadata": {},
   "source": [
    "Q5. Create a generator function for prime numbers less than 1000. Use the next() method to print the\n",
    "first 20 prime numbers."
   ]
  },
  {
   "cell_type": "code",
   "execution_count": 21,
   "id": "f948b702-cfa5-4bc5-b48e-4bf8430e4a94",
   "metadata": {},
   "outputs": [
    {
     "name": "stdout",
     "output_type": "stream",
     "text": [
      "2\n",
      "3\n",
      "5\n",
      "7\n",
      "11\n",
      "13\n",
      "17\n",
      "19\n",
      "23\n",
      "29\n",
      "31\n",
      "37\n",
      "41\n",
      "43\n",
      "47\n",
      "53\n",
      "59\n",
      "61\n",
      "67\n",
      "71\n",
      "73\n",
      "79\n",
      "83\n",
      "89\n",
      "97\n"
     ]
    }
   ],
   "source": [
    "# Answer: \n",
    "\n",
    "# generator function to prime number between 1 to 1000\n",
    "def generatePrime():\n",
    "    count=0\n",
    "    for i in range(1, 1000):\n",
    "\n",
    "        if (i == 1):\n",
    "            continue\n",
    "\n",
    "        flag = 1\n",
    "         \n",
    "        for j in range(2, i // 2 + 1):\n",
    "            if (i % j == 0):\n",
    "                flag = 0\n",
    "                break\n",
    "\n",
    "        if (flag == 1):\n",
    "            count=count+1\n",
    "            yield i\n",
    "          \n",
    "\n",
    "        \n",
    "itr= iter(generatePrime()) # to generate first 25 prime number\n",
    "\n",
    "count=0\n",
    "for pr in itr:\n",
    "    count = count + 1\n",
    "    print(pr)\n",
    "    if count == 25:\n",
    "        break\n",
    "        \n",
    "    \n",
    "   \n",
    "        "
   ]
  }
 ],
 "metadata": {
  "kernelspec": {
   "display_name": "Python 3 (ipykernel)",
   "language": "python",
   "name": "python3"
  },
  "language_info": {
   "codemirror_mode": {
    "name": "ipython",
    "version": 3
   },
   "file_extension": ".py",
   "mimetype": "text/x-python",
   "name": "python",
   "nbconvert_exporter": "python",
   "pygments_lexer": "ipython3",
   "version": "3.10.8"
  }
 },
 "nbformat": 4,
 "nbformat_minor": 5
}
