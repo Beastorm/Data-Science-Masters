{
 "cells": [
  {
   "cell_type": "markdown",
   "id": "beace742-d4eb-4da9-a0c4-1ea32cbf7531",
   "metadata": {},
   "source": [
    "Q1. You are writing code for a company. The requirement of the company is that you create a python\n",
    "function that will check whether the password entered by the user is correct or not. The function should\n",
    "take the password as input and return the string “Valid Password” if the entered password follows the\n",
    "below-given password guidelines else it should return “Invalid Password”.\n",
    "Note: 1. The Password should contain at least two uppercase letters and at least two lowercase letters.\n",
    "2. The Password should contain at least a number and three special characters.\n",
    "3. The length of the password should be 10 characters long."
   ]
  },
  {
   "cell_type": "markdown",
   "id": "4927206a-f958-4d4d-ae4a-3af1ffb2ea34",
   "metadata": {},
   "source": [
    "Answer::"
   ]
  },
  {
   "cell_type": "code",
   "execution_count": 21,
   "id": "b9829ccf-fc61-4c7b-9b40-8ba12d781f60",
   "metadata": {},
   "outputs": [
    {
     "name": "stdout",
     "output_type": "stream",
     "text": [
      "2\n",
      "2\n",
      "3\n",
      "3\n",
      "10\n",
      "Validate\n"
     ]
    }
   ],
   "source": [
    "def validatePwd(pwd):\n",
    "    cCount=0\n",
    "    lCount=0\n",
    "    nCount=0\n",
    "    sCount=0\n",
    "    \n",
    "    for ch in pwd:\n",
    "        \n",
    "        if ch.isupper():\n",
    "            cCount=cCount+1\n",
    "            \n",
    "        elif ch.islower():\n",
    "            lCount=lCount+1\n",
    "            \n",
    "        elif ch.isnumeric():\n",
    "            nCount=nCount+1\n",
    "        elif ch.isspace():\n",
    "            return \"InValidate\"\n",
    "        else :\n",
    "             sCount=sCount+1\n",
    "    \n",
    "    if ((cCount>=2 and nCount>=1) and (lCount>=2 and sCount==3) and len(pwd) == 10):  \n",
    "        return \"Validate\"\n",
    "    else : return \"InValidate\"       \n",
    "    \n",
    "    \n",
    "        \n",
    "st= validatePwd(\"AD4cc3p_@#\")\n",
    "\n",
    "print(st)"
   ]
  },
  {
   "cell_type": "markdown",
   "id": "72955d0a-fc66-422f-92ca-8747ae5c7a79",
   "metadata": {},
   "source": [
    "Q2. Solve the below-given questions using at least one of the following:\n",
    "1. Lambda function\n",
    "2. Filter function\n",
    "3. Map function\n",
    "4. List Comprehension \n",
    " Check if the string starts with a particular letter\n",
    " Check if the string is numericY\n",
    " Sort a list of tuples having fruit names and their quantity. [(\"mango\",99),(\"orange\",80), (\"grapes\", 1000)-\n",
    " Find the squares of numbers from 1 to 10Y\n",
    " Find the cube root of numbers from 1 to 10Y\n",
    " Check if a given number is evenY\n",
    " Filter odd numbers from the given list. [1,2,3,4,5,6,7,8,9,10-\n",
    " Sort a list of integers into positive and negative integers lists. [1,2,3,4,5,6,-1,-2,-3,-4,-5,0]"
   ]
  },
  {
   "cell_type": "code",
   "execution_count": 23,
   "id": "f959c1f5-0cf6-444c-b167-e18a92de2f65",
   "metadata": {},
   "outputs": [
    {
     "data": {
      "text/plain": [
       "True"
      ]
     },
     "execution_count": 23,
     "metadata": {},
     "output_type": "execute_result"
    }
   ],
   "source": [
    "# Check if the string starts with a particular letter \"k\"\n",
    "\n",
    "isStartWith = lambda s: True if s.startswith(\"k\") else False\n",
    "\n",
    "isStartWith(\"kSsds\")"
   ]
  },
  {
   "cell_type": "code",
   "execution_count": 26,
   "id": "34584cac-2b34-4130-b757-417c05d62021",
   "metadata": {},
   "outputs": [
    {
     "data": {
      "text/plain": [
       "True"
      ]
     },
     "execution_count": 26,
     "metadata": {},
     "output_type": "execute_result"
    }
   ],
   "source": [
    "# Check if the string is numeric\n",
    "\n",
    "isStartWith = lambda s: True if s.isnumeric() else False\n",
    "\n",
    "isStartWith(\"990\")"
   ]
  },
  {
   "cell_type": "code",
   "execution_count": 1,
   "id": "f23c37c0-a72a-4cab-ac30-f30337536d57",
   "metadata": {},
   "outputs": [
    {
     "name": "stdout",
     "output_type": "stream",
     "text": [
      "[('orange', 80), ('mango', 99), ('grapes', 1000)]\n"
     ]
    }
   ],
   "source": [
    "# Sort a list of tuples having fruit names and their quantity. [(\"mango\",99),(\"orange\",80), (\"grapes\", 1000)]\n",
    "fruits = [(\"mango\", 99), (\"orange\", 80), (\"grapes\", 1000)]\n",
    "sorted_fruits = sorted(fruits, key = lambda i: i[1])\n",
    "\n",
    "print(sorted_fruits)"
   ]
  },
  {
   "cell_type": "code",
   "execution_count": null,
   "id": "d8df7299-72bf-4063-a523-2335a97c5491",
   "metadata": {},
   "outputs": [],
   "source": [
    "# Find the squares of numbers from 1 to 10\n",
    "\n",
    "sqaureList = list(map(lambda i:(i**2),range(1,11)))"
   ]
  },
  {
   "cell_type": "code",
   "execution_count": null,
   "id": "3c925ee1-e7f8-4408-93a9-7bd92c7914ec",
   "metadata": {},
   "outputs": [],
   "source": [
    "# B Find the cube root of numbers from 1 to 10\n",
    "\n",
    "cubeRootList = list(map(lambda i:(i**(1/3)),range(1,11)))\n"
   ]
  },
  {
   "cell_type": "code",
   "execution_count": null,
   "id": "4be5506b-3619-4b56-a69d-71984f368311",
   "metadata": {},
   "outputs": [],
   "source": [
    "# Check if a given number is even\n",
    "\n",
    "number= int(input(\"Input a number to check for even\"))\n",
    "\n",
    "if number%2!=0:\n",
    "    print(\"Number is not even\")\n",
    "else:\n",
    "    print(\"Number is even\")"
   ]
  },
  {
   "cell_type": "code",
   "execution_count": 39,
   "id": "44a0f2a4-b9da-4be7-b662-cbbfb2a33f60",
   "metadata": {},
   "outputs": [
    {
     "name": "stdout",
     "output_type": "stream",
     "text": [
      "[1, 3, 5, 7, 9]\n"
     ]
    }
   ],
   "source": [
    "# B Filter odd numbers from the given list [1,2,3,4,5,6,7,8,9,10]\n",
    "\n",
    "list= [1,2,3,4,5,6,7,8,9,10]\n",
    "oddList=[i for i in list  if i%2!=0]\n",
    "\n",
    "print(oddList)"
   ]
  },
  {
   "cell_type": "code",
   "execution_count": null,
   "id": "101eb69a-98b0-412e-bea4-c25988a67c9b",
   "metadata": {},
   "outputs": [],
   "source": [
    "# B Sort a list of integers into positive and negative integers lists.[1,2,3,4,5,6,-1,-2,-3,-4,-5,0]\n",
    "\n",
    "li=[1,2,3,4,5,6,-1,-2,-3,-4,-5,0]\n",
    "\n",
    "plist=list(filter(lambda i: i>=0,li))\n",
    "\n",
    "\n",
    "nlist=list(filter(lambda i: i<0,li))"
   ]
  }
 ],
 "metadata": {
  "kernelspec": {
   "display_name": "Python 3 (ipykernel)",
   "language": "python",
   "name": "python3"
  },
  "language_info": {
   "codemirror_mode": {
    "name": "ipython",
    "version": 3
   },
   "file_extension": ".py",
   "mimetype": "text/x-python",
   "name": "python",
   "nbconvert_exporter": "python",
   "pygments_lexer": "ipython3",
   "version": "3.10.8"
  }
 },
 "nbformat": 4,
 "nbformat_minor": 5
}
