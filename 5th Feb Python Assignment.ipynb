{
 "cells": [
  {
   "cell_type": "code",
   "execution_count": null,
   "id": "b8b3433e-7b91-44a5-affe-f02ac97ef1b4",
   "metadata": {},
   "outputs": [],
   "source": [
    "Q1. Explain Class and Object with respect to Object-Oriented Programming. Give a suitable example."
   ]
  },
  {
   "cell_type": "code",
   "execution_count": null,
   "id": "b9fc48ba-326f-4809-b7a8-bea867af0b73",
   "metadata": {},
   "outputs": [],
   "source": [
    "Class:\n",
    "    class is a blueprint or template to create the object and it is a logical entity.\n",
    "    eg. Build plan can be a real time example for class.\n",
    "        class BuildingPlan:\n",
    "            floor=0\n",
    "            area=0\n",
    "            noOfRoom=0\n",
    "            \n",
    "\n",
    "Object:\n",
    "    object is realtime time that exist in the menory and it is a physical entity.\n",
    "    \n",
    "    eg: we can create object of the above class,\n",
    "    plan=BuildingPlan()\n",
    "    \n",
    "    "
   ]
  },
  {
   "cell_type": "markdown",
   "id": "c08cecc2-1a4c-478e-9958-6a701564dcce",
   "metadata": {},
   "source": [
    "Q2. Name the four pillars of OOPs."
   ]
  },
  {
   "cell_type": "code",
   "execution_count": null,
   "id": "7bf98222-e0ff-418f-8502-e2dc5606ded4",
   "metadata": {},
   "outputs": [],
   "source": [
    "Four pillars of OOPs are Polymorphism, Inheritance, Encapsulation, and Abstraction."
   ]
  },
  {
   "cell_type": "markdown",
   "id": "d649fd67-a784-4fcd-a7c5-d8e2d5523c2d",
   "metadata": {},
   "source": [
    "Q3. Explain why the __init__() function is used. Give a suitable example."
   ]
  },
  {
   "cell_type": "markdown",
   "id": "e7668b8d-65bf-4541-86ad-65859d4a53fa",
   "metadata": {},
   "source": [
    "we use init() function to initialize the object.\n",
    "\n",
    "class BuildingPlan:\n",
    "            floor=0\n",
    "            area=0\n",
    "            noOfRoom=0\n",
    "            \n",
    "            def __init__(self,floor,area):\n",
    "                self.floor=floor\n",
    "                self.area=area\n",
    "                \n",
    "\n",
    "                \n",
    "plan = BuildingPlan(floor=9,area=90)\n",
    "\n",
    "print(plan.floor)"
   ]
  },
  {
   "cell_type": "markdown",
   "id": "f5812de2-8387-4689-855f-7938f8ac0f8c",
   "metadata": {},
   "source": [
    "Q4. Why self is used in OOPs?"
   ]
  },
  {
   "cell_type": "markdown",
   "id": "ce509b2e-4225-4771-b65e-af610e90ca0c",
   "metadata": {},
   "source": [
    "we use self to access the current object, but while defining the method in the class, it should be the first argument. We can use other name for self as well."
   ]
  },
  {
   "cell_type": "markdown",
   "id": "9016f065-c41e-45ce-b215-53683e272f63",
   "metadata": {},
   "source": [
    "Q5. What is inheritance? Give an example for each type of inheritance."
   ]
  },
  {
   "cell_type": "code",
   "execution_count": null,
   "id": "47ceb8d8-1219-4929-99aa-8239e3b829fa",
   "metadata": {},
   "outputs": [],
   "source": [
    "Inheritence is acquring the properties and behviours of parent. It provides the code resuablity out of the box.\n",
    "There are many types of inhertance,\n",
    "Single-Level Inheritence::>>\n",
    "eg,\n",
    "class Person:\n",
    "    name=\"ab\"\n",
    "    age=23\n",
    "    address=\"\"\n",
    "        \n",
    "class Employee(Person):\n",
    "    empId=\"\"\n",
    "    \n",
    "emp= Employee()\n",
    "print(emp.name)\n",
    "           \n",
    "    \n",
    "Multi-level Inheritence::>>\n",
    "eg,    \n",
    "class Person:\n",
    "    name=\"ab\"\n",
    "    age=23\n",
    "    address=\"\"\n",
    "        \n",
    "class Employee(Person):\n",
    "    empId=\"\"\n",
    "    \n",
    "emp= Employee()\n",
    "print(emp.name)\n",
    "\n",
    "class Manager(Employee):\n",
    "    managerType=\"xy\"\n",
    "    \n",
    "mng= Manager()\n",
    "print(mng.managerType)\n",
    "    \n",
    "    \n",
    "Multiple Inheritence::>>\n",
    "eg,\n",
    "class Bird:\n",
    "    wing=True\n",
    "    peak=False\n",
    "    \n",
    "class Lion:\n",
    "    legs= True\n",
    "\n",
    "    \n",
    "class Mutant(Bird, Lion):\n",
    "    def __init__(self):\n",
    "        print(f\"Now I am mutant wing: {self.wing}, peak: {self.peak}, legs: {self.legs}\")\n",
    "    \n",
    "\n",
    "m= Mutant()\n"
   ]
  }
 ],
 "metadata": {
  "kernelspec": {
   "display_name": "Python 3 (ipykernel)",
   "language": "python",
   "name": "python3"
  },
  "language_info": {
   "codemirror_mode": {
    "name": "ipython",
    "version": 3
   },
   "file_extension": ".py",
   "mimetype": "text/x-python",
   "name": "python",
   "nbconvert_exporter": "python",
   "pygments_lexer": "ipython3",
   "version": "3.10.8"
  }
 },
 "nbformat": 4,
 "nbformat_minor": 5
}
