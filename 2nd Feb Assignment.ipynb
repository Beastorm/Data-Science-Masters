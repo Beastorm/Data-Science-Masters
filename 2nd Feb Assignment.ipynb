{
 "cells": [
  {
   "cell_type": "markdown",
   "id": "f706a5af-d049-4d07-a1c2-4180d5a1b926",
   "metadata": {},
   "source": [
    "#### Answer 1:"
   ]
  },
  {
   "cell_type": "markdown",
   "id": "19268f04-2979-47a1-930d-d52484f03876",
   "metadata": {},
   "source": [
    "Here are the characteristics of the tuple are,\n",
    "\n",
    "1. Tuple is an immutable data type means once values are assigned to it we can't change it later.\n",
    "2. In Tuple each element have its index means we can access the element by using the index.\n",
    "3. Tuple can be constant folded than the list.\n",
    "4. Tuple doesn't allocate over memory.\n",
    "\n",
    "Yes tuple is immutable data type."
   ]
  },
  {
   "cell_type": "markdown",
   "id": "80b5cd87-5ee9-480a-b422-75d74e36d03e",
   "metadata": {},
   "source": [
    "#### Answer 2: "
   ]
  },
  {
   "cell_type": "markdown",
   "id": "0a9fe11d-d00a-4d25-a7cd-11ab7871039e",
   "metadata": {},
   "source": [
    "we have two methods in tuple,\n",
    "1. count()\n",
    "    we use this method to know the number of occurebce of an element in the tuple.\n",
    "    eg:\n",
    "        t = (1,2,4,4,5)\n",
    "        c=  t.count(4)\n",
    "        print(c)\n",
    "\n",
    "2. index()\n",
    "   we use this method to index of a first occurence of specified elememt. If element not found, then we will get error.\n",
    "    \n",
    "   eg:\n",
    "        t = (1,2,4,4,5)\n",
    "        i=  t.index(4)\n",
    "        print(i)    \n",
    "\n",
    "        \n",
    "The main reason of tuple having two methods is that tuple is immutable data type and list is mutable data type. So we can perform all sort of \"CRUD\" operation in list whereas in case of tuple, once we create tuple then we cann't change it later but we can only performed read operation. That's the reason we have only two methods in case of tuple."
   ]
  },
  {
   "cell_type": "markdown",
   "id": "8660c935-8a61-48d8-9cde-b7127ed32cfe",
   "metadata": {},
   "source": [
    "#### Answer 3:"
   ]
  },
  {
   "cell_type": "code",
   "execution_count": 2,
   "id": "daf842da-30a2-4cdf-8968-63c1dfcfcb83",
   "metadata": {},
   "outputs": [
    {
     "name": "stdout",
     "output_type": "stream",
     "text": [
      "{1, 2, 3, 4}\n"
     ]
    }
   ],
   "source": [
    "Set collection in python does not allow duplicate items.\n",
    "\n",
    "\n",
    "To remove we can use set as it not allow duplicate for given list. \n",
    "List = [1, 1, 1, 2, 1, 3, 1, 4, 2, 1, 2, 2, 2, 3, 2, 4, 3, 1, 3, 2, 3, 3, 3, 4, 4, 1, 4, 2, 4, 3, 4, 4]\n",
    "\n",
    "s = set(List)\n",
    "print(s)"
   ]
  },
  {
   "cell_type": "markdown",
   "id": "330594fd-0d1e-494c-a742-f1bd2329e4c8",
   "metadata": {},
   "source": [
    "#### Answer 4: "
   ]
  },
  {
   "cell_type": "markdown",
   "id": "e84e122b-cf0f-4dfb-9fc3-9f915ef95d9e",
   "metadata": {},
   "source": [
    "The main difference between update() and union() method of sort is,\n",
    "\n",
    "if we execute update() on the set it will change the original set only i.e in place, whereas in the case of the union() method creates a \n",
    "new set.\n",
    "\n",
    "\n",
    "update example,\n",
    "s = {1,4,5,6}\n",
    "\n",
    "s.update([7,8])\n",
    "\n",
    "print(s)\n",
    "\n",
    "\n",
    "union example,\n",
    "\n",
    "s = {1,4,5,6}\n",
    "\n",
    "k = s.union([7,8])\n",
    "\n",
    "print(s)\n",
    "print(k)\n"
   ]
  },
  {
   "cell_type": "markdown",
   "id": "97a99e4c-233a-498e-94d0-d9626b9771e4",
   "metadata": {},
   "source": [
    "#### Answer 5:"
   ]
  },
  {
   "cell_type": "markdown",
   "id": "7eab4ed1-edf4-4f71-b58b-bcb53e3d071e",
   "metadata": {},
   "source": [
    "Dictionary is an ordered collection of key value pair.\n",
    "\n",
    "eg:\n",
    "dict= {1: \"mango\", 2: \"apple\", 3:\"Banana\"}\n",
    "\n",
    "dict[4]=\"xyx\"\n",
    "\n",
    "print(dict)\n",
    "\n",
    "\n",
    "\n",
    "Dictionary is an ordered collection of items."
   ]
  },
  {
   "cell_type": "markdown",
   "id": "46d15c57-fa8f-4dbe-8093-f6a4a9cebc0c",
   "metadata": {},
   "source": [
    "#### Answer 6:"
   ]
  },
  {
   "cell_type": "markdown",
   "id": "dfdc5672-a355-4133-9dc1-7aac69d59ca2",
   "metadata": {},
   "source": [
    "yes, we can create nested dictionary in dictionary like this,\n",
    "dict= {1: \"mango\", 2: \"apple\", 3:\"Banana\",4:{1:1,2:2}}\n",
    "\n",
    "print(dict)"
   ]
  },
  {
   "cell_type": "markdown",
   "id": "ee886e5b-4f3a-4da0-8075-e375fee53adc",
   "metadata": {},
   "source": [
    "#### Answer 7 :"
   ]
  },
  {
   "cell_type": "code",
   "execution_count": 10,
   "id": "00575087-997b-438b-b19f-0977ccd2d3bc",
   "metadata": {},
   "outputs": [
    {
     "name": "stdout",
     "output_type": "stream",
     "text": [
      "{'Topics': ['Python', 'Machine Learning', 'Deep Learning']}\n"
     ]
    }
   ],
   "source": [
    "topics= {}\n",
    "\n",
    "topics.setdefault(\"Topics\", ['Python', 'Machine Learning', 'Deep Learning'])\n",
    "                               \n",
    "print(topics)                               "
   ]
  },
  {
   "cell_type": "markdown",
   "id": "4404a50c-870e-4f6e-bf8a-6e7ffca82097",
   "metadata": {},
   "source": [
    "#### Answer 8 :"
   ]
  },
  {
   "cell_type": "code",
   "execution_count": null,
   "id": "d88f1c46-9857-449b-9571-bf873a212ec8",
   "metadata": {},
   "outputs": [],
   "source": [
    " The three view objects of dictionary are keys, values, and items.\n",
    "\n",
    "dict1 = {'Sport': 'Cricket' , 'Teams': ['India', 'Australia', 'England', 'South Africa', 'Sri Lanka', 'New Zealand']}\n",
    "\n",
    "k = dict1.keys() \n",
    "print(k)\n",
    "\n",
    "v = dict1.values() \n",
    "print(v)\n",
    "\n",
    "i= dict1.items() \n",
    "\n",
    "print(i)\n",
    "\n"
   ]
  }
 ],
 "metadata": {
  "kernelspec": {
   "display_name": "Python 3 (ipykernel)",
   "language": "python",
   "name": "python3"
  },
  "language_info": {
   "codemirror_mode": {
    "name": "ipython",
    "version": 3
   },
   "file_extension": ".py",
   "mimetype": "text/x-python",
   "name": "python",
   "nbconvert_exporter": "python",
   "pygments_lexer": "ipython3",
   "version": "3.10.8"
  }
 },
 "nbformat": 4,
 "nbformat_minor": 5
}
