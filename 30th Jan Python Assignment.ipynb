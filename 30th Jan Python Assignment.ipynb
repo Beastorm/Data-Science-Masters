{
 "cells": [
  {
   "cell_type": "markdown",
   "id": "b2c8c50b-9be5-4a41-ba9f-fdcbfab22f5d",
   "metadata": {},
   "source": [
    "#### Answer 1 :"
   ]
  },
  {
   "cell_type": "code",
   "execution_count": 8,
   "id": "052e61ef-b619-4cd0-8d07-e270847a2e8b",
   "metadata": {},
   "outputs": [
    {
     "name": "stdin",
     "output_type": "stream",
     "text": [
      "Enter your mark Percentage 60\n"
     ]
    },
    {
     "name": "stdout",
     "output_type": "stream",
     "text": [
      "Grade C\n"
     ]
    }
   ],
   "source": [
    "markPer = int(input(\"Enter your mark in Percentage\"))\n",
    "\n",
    "\n",
    "if markPer > 90 :\n",
    "    print(\"Grade A\")\n",
    "elif markPer > 80 and markPer <=90:\n",
    "    print(\"Grade B\")\n",
    "elif markPer >= 60 and markPer <= 80:\n",
    "    print(\"Grade C\")\n",
    "else:\n",
    "    print(\"Grade D\")\n",
    "\n",
    "    \n"
   ]
  },
  {
   "cell_type": "markdown",
   "id": "684925b1-e090-471f-83c4-049256285fe5",
   "metadata": {},
   "source": [
    "#### Answer 2:"
   ]
  },
  {
   "cell_type": "code",
   "execution_count": 11,
   "id": "708718f7-1e54-460c-8021-ad4711f96519",
   "metadata": {},
   "outputs": [
    {
     "name": "stdin",
     "output_type": "stream",
     "text": [
      "Enter your bike cost 50000\n"
     ]
    },
    {
     "name": "stdout",
     "output_type": "stream",
     "text": [
      "Road Tax: 2500.0\n"
     ]
    }
   ],
   "source": [
    "bikeCost = int(input(\"Enter your bike cost\"))\n",
    "\n",
    "\n",
    "if bikeCost > 100000 :\n",
    "    print(f\"Road Tax: {bikeCost * 0.15}\")\n",
    "elif bikeCost > 50000 and bikeCost <=100000:\n",
    "      print(f\"Road Tax: {bikeCost * 0.10}\")\n",
    "else:\n",
    "      print(f\"Road Tax: {bikeCost * 0.05}\")\n"
   ]
  },
  {
   "cell_type": "markdown",
   "id": "7b4c6315-0de8-4dd0-8922-5647bdca7c54",
   "metadata": {},
   "source": [
    "#### Answer 3:"
   ]
  },
  {
   "cell_type": "code",
   "execution_count": null,
   "id": "af69669b-e053-4cba-a010-654e9fa5d4e2",
   "metadata": {},
   "outputs": [],
   "source": [
    "cityName = input(\"Enter city from Agra or Delhi or Jaipur to popular monument in that city\")\n",
    "\n",
    "inLower = cityName.lower()\n",
    "\n",
    "if  inLower == \"agra\":\n",
    "    print(\"Taj Mahal\")\n",
    "elif  inLower == \"delhi\":\n",
    "    print(\"Red Fort\")\n",
    "elif  inLower == \"jaipur\":\n",
    "    print(\"Jal Mahal\")    \n",
    "else:\n",
    "      print(\"enter among Agra or Delhi or Jaipur only or check your city spelling\")"
   ]
  },
  {
   "cell_type": "markdown",
   "id": "b76d2354-875e-429a-a792-d031735aa946",
   "metadata": {},
   "source": [
    "#### Answer 4:"
   ]
  },
  {
   "cell_type": "code",
   "execution_count": null,
   "id": "3018d43d-6ca5-4267-84bc-813afd500b4a",
   "metadata": {},
   "outputs": [],
   "source": [
    "number = int(input(\"Enter a number: \"))\n",
    "count = 0\n",
    "\n",
    "while number > 10:\n",
    "    number = number // 3\n",
    "    count += 1\n",
    "\n",
    "print(f\"The number can be divided by 3-> {count} times before it becomes less than or equal to 10.\")\n"
   ]
  },
  {
   "cell_type": "markdown",
   "id": "cc224163-9bec-402f-8d66-5013ae616ae3",
   "metadata": {},
   "source": [
    "#### Answer 5:"
   ]
  },
  {
   "cell_type": "markdown",
   "id": "5f794b75-7cf5-451e-a530-a22a00f0cd7d",
   "metadata": {},
   "source": [
    "The main reason why we generally prefer to use over while loop construct over other loop construct is that we don't know how many iteration will be required for a given scenario.\n",
    "\n",
    "example: write python program check how many times a given number can be divided by 3 before it is less than or equal to 10.\n",
    "\n",
    "code>>\n",
    "\n",
    "number = int(input(\"Enter a number: \"))\n",
    "count = 0\n",
    "\n",
    "while number > 10:\n",
    "    number = number // 3\n",
    "    count += 1\n",
    "\n",
    "print(f\"The number can be divided by 3-> {count} times before it becomes less than or equal to 10.\")"
   ]
  },
  {
   "cell_type": "markdown",
   "id": "1a0ebe64-3797-4439-b1d3-96fe5b2f1325",
   "metadata": {},
   "source": [
    "#### Answer 6:"
   ]
  },
  {
   "cell_type": "code",
   "execution_count": 6,
   "id": "488e1106-5d56-4163-8247-bb0fdc609729",
   "metadata": {},
   "outputs": [
    {
     "name": "stdout",
     "output_type": "stream",
     "text": [
      "* * * * * * * * * \n",
      "* * * * * * * * * \n",
      "* * * * * * * * * \n",
      "* * * * * * * * * \n",
      "* * * * * * * * * \n",
      "* * * * * * * * * \n",
      "* * * * * * * * * \n",
      "* * * * * * * * * \n",
      "* * * * * * * * * \n"
     ]
    }
   ],
   "source": [
    "# Pattern1 using nested while loop\n",
    "\n",
    "i = 1\n",
    "while i < 10:\n",
    "    \n",
    "    j=1\n",
    "    while j<10:\n",
    "        \n",
    "        print(\"*\", end=\" \")\n",
    "        j = j + 1\n",
    "        \n",
    "    print(end = '\\n')    \n",
    "    i = i + 1\n"
   ]
  },
  {
   "cell_type": "code",
   "execution_count": 6,
   "id": "00c78f08-43c5-4857-824c-a6039ab40403",
   "metadata": {},
   "outputs": [
    {
     "name": "stdout",
     "output_type": "stream",
     "text": [
      "* \n",
      "* * \n",
      "* * * \n",
      "* * * * \n",
      "* * * * * \n",
      "* * * * * * \n",
      "* * * * * * * \n",
      "* * * * * * * * \n",
      "* * * * * * * * * \n",
      "* * * * * * * * * * \n"
     ]
    }
   ],
   "source": [
    "# Pattern2 using nested while loop\n",
    "\n",
    "i = 0\n",
    "while i < 10:\n",
    "    \n",
    "    j=0\n",
    "    while j<=i:\n",
    "        \n",
    "        print(\"*\", end=\" \")\n",
    "        j = j + 1\n",
    "        \n",
    "    print(end = '\\n')    \n",
    "    i = i + 1\n"
   ]
  },
  {
   "cell_type": "code",
   "execution_count": 5,
   "id": "b604508e-a7bc-4508-b1ee-352d51361aec",
   "metadata": {},
   "outputs": [
    {
     "name": "stdout",
     "output_type": "stream",
     "text": [
      "* * * * * * * * * * \n",
      "* * * * * * * * * \n",
      "* * * * * * * * \n",
      "* * * * * * * \n",
      "* * * * * * \n",
      "* * * * * \n",
      "* * * * \n",
      "* * * \n",
      "* * \n",
      "* \n"
     ]
    }
   ],
   "source": [
    "# Pattern3 using nested while loop\n",
    "\n",
    "\n",
    "i = 0\n",
    "while i < 10:\n",
    "    \n",
    "    k=0\n",
    "    while k < 10 - i:\n",
    "        \n",
    "        print(\"*\", end=\" \")\n",
    "        k = k + 1\n",
    "    \n",
    "    print(end = '\\n')  \n",
    "    i = i + 1"
   ]
  },
  {
   "cell_type": "markdown",
   "id": "944b21f2-5d07-424f-969b-017233ac4038",
   "metadata": {},
   "source": [
    "#### Answer 7"
   ]
  },
  {
   "cell_type": "code",
   "execution_count": 4,
   "id": "a6e43528-3663-4999-8ca7-5915a4dd3542",
   "metadata": {},
   "outputs": [
    {
     "name": "stdout",
     "output_type": "stream",
     "text": [
      "10\n",
      "9\n",
      "8\n",
      "7\n",
      "6\n",
      "5\n",
      "4\n",
      "3\n",
      "2\n",
      "1\n"
     ]
    }
   ],
   "source": [
    "\n",
    "i=10\n",
    "\n",
    "while i >= 1 :\n",
    "    print(i)\n",
    "    i=i-1"
   ]
  },
  {
   "cell_type": "markdown",
   "id": "a303b285-4dd6-4f85-a049-f7378f45cba3",
   "metadata": {},
   "source": [
    "#### Answer 8"
   ]
  },
  {
   "cell_type": "code",
   "execution_count": null,
   "id": "def36088-35e0-46b4-aa13-85cc4e3d3a96",
   "metadata": {},
   "outputs": [],
   "source": [
    "\n",
    "i=0\n",
    "c=0\n",
    "while i <= 10 :\n",
    "    c= 10-i\n",
    "    \n",
    "    if c==0:\n",
    "        break\n",
    "    print(c)\n",
    "    i=i+1\n",
    "    "
   ]
  }
 ],
 "metadata": {
  "kernelspec": {
   "display_name": "Python 3 (ipykernel)",
   "language": "python",
   "name": "python3"
  },
  "language_info": {
   "codemirror_mode": {
    "name": "ipython",
    "version": 3
   },
   "file_extension": ".py",
   "mimetype": "text/x-python",
   "name": "python",
   "nbconvert_exporter": "python",
   "pygments_lexer": "ipython3",
   "version": "3.10.8"
  }
 },
 "nbformat": 4,
 "nbformat_minor": 5
}
