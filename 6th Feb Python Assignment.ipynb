{
 "cells": [
  {
   "cell_type": "markdown",
   "id": "4e62532d-aabd-4309-be9c-650cb7d03317",
   "metadata": {},
   "source": [
    "Q1. Create a function which will take a list as an argument and return the product of all the numbers\n",
    "after creating a flat list.\n",
    "Use the below-given list as an argument for your function.\n",
    "list1 = [1,2,3,4, [44,55,66, True], False, (34,56,78,89,34), {1,2,3,3,2,1}, {1:34, \"key2\": [55, 67, 78, 89], 4: (45,\n",
    "22, 61, 34)}, [56, 'data science'], 'Machine Learning']\n",
    "Note: you must extract numeric keys and values of the dictionary also."
   ]
  },
  {
   "cell_type": "code",
   "execution_count": null,
   "id": "881ee658-157e-42cc-b60c-3fd06ee4e332",
   "metadata": {},
   "outputs": [],
   "source": [
    "Answer:::"
   ]
  },
  {
   "cell_type": "code",
   "execution_count": 39,
   "id": "2395776c-99ae-458b-bd1a-e69bd66b5227",
   "metadata": {},
   "outputs": [
    {
     "name": "stdout",
     "output_type": "stream",
     "text": [
      "[1, 2, 3, 4, 44, 55, 66, True, False, 34, 56, 78, 89, 34, 1, 2, 3, 1, 'key2', 4, 34, 55, 67, 78, 89, 45, 22, 61, 34, 56, 'data science', 'Machine Learning']\n"
     ]
    }
   ],
   "source": [
    "import itertools\n",
    "\n",
    "def process(list2):\n",
    " \n",
    "    flatList = []\n",
    "\n",
    "    for inner in list2:\n",
    "        \n",
    "        if type(inner) is list or  type(inner) is tuple or type(inner) is set:\n",
    "            flatList.extend(inner)  \n",
    "            \n",
    "        else:\n",
    "            if  type(inner) is int or  type(inner) is bool or  type(inner) is str:\n",
    "                flatList.append(inner)\n",
    "                \n",
    "            else:\n",
    "                if type(inner) is dict:\n",
    "                        flatList.extend(list(inner.keys()))\n",
    "                        for innerest in list(inner.values()):\n",
    "                            if type(innerest) is int:\n",
    "                                flatList.append(innerest)\n",
    "                            else  :\n",
    "                                flatList.extend(innerest)\n",
    "                            \n",
    "                        \n",
    "                        \n",
    "            \n",
    "    return flatList   \n",
    "\n",
    "list1 = [1,2,3,4, [44,55,66, True], False, (34,56,78,89,34), {1,2,3,3,2,1}, {1:34, \"key2\": [55, 67, 78, 89], 4: (45, 22, 61, 34)}, [56, 'data science'], 'Machine Learning']\n",
    "fl=process(list1)\n",
    "\n",
    "print(fl)\n",
    "    \n",
    "    "
   ]
  },
  {
   "cell_type": "markdown",
   "id": "d5151c63-4e40-42e9-aaec-2d29507e6f11",
   "metadata": {},
   "source": [
    "Q2.Write a python program for encrypting a message sent to you by your friend. The logic of encryption\n",
    "should be such that, for a the output should be z. For b, the output should be y. For c, the output should\n",
    "be x respectively. Also, the whitespace should be replaced with a dollar sign. Keep the punctuation\n",
    "marks unchanged.\n",
    "Input Sentence: I want to become a Data Scientist.\n",
    "Encrypt the above input sentence using the program you just created.\n",
    "Note: Convert the given input sentence into lowercase before encrypting. The final output should be\n",
    "lowercase."
   ]
  },
  {
   "cell_type": "code",
   "execution_count": null,
   "id": "f3db4849-1a66-4031-8b6a-43f1bc9fac3c",
   "metadata": {},
   "outputs": [],
   "source": [
    "Answer:::"
   ]
  },
  {
   "cell_type": "code",
   "execution_count": 17,
   "id": "b428dad0-b57c-4b56-a2d3-e9905f587270",
   "metadata": {},
   "outputs": [
    {
     "data": {
      "text/plain": [
       "'r$dzmg$gl$yvxlnv$z$wzgz$hxrvmgrhg.'"
      ]
     },
     "execution_count": 17,
     "metadata": {},
     "output_type": "execute_result"
    }
   ],
   "source": [
    "def encrypt_message(msg):\n",
    "    encrypted_msg = ''\n",
    "    for c in msg:\n",
    "        if c.isalpha():\n",
    "            encrypted_c = chr(ord('a') + ord('z') - ord(c))\n",
    "            encrypted_msg += encrypted_c\n",
    "        elif c.isspace():\n",
    "            encrypted_msg += '$'\n",
    "        else:\n",
    "            encrypted_msg += c\n",
    "    return encrypted_msg\n",
    "\n",
    "msg = 'I want to become a Data Scientist.'\n",
    "encrypt_message(msg.lower())"
   ]
  }
 ],
 "metadata": {
  "kernelspec": {
   "display_name": "Python 3 (ipykernel)",
   "language": "python",
   "name": "python3"
  },
  "language_info": {
   "codemirror_mode": {
    "name": "ipython",
    "version": 3
   },
   "file_extension": ".py",
   "mimetype": "text/x-python",
   "name": "python",
   "nbconvert_exporter": "python",
   "pygments_lexer": "ipython3",
   "version": "3.10.8"
  }
 },
 "nbformat": 4,
 "nbformat_minor": 5
}
