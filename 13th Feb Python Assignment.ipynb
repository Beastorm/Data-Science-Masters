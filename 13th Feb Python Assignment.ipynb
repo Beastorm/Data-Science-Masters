{
 "cells": [
  {
   "cell_type": "markdown",
   "id": "c4c94135-05a9-46d1-8c74-4f60a72a8df8",
   "metadata": {},
   "source": [
    "Q1. Explain why we have to use the Exception class while creating a Custom Exception."
   ]
  },
  {
   "cell_type": "code",
   "execution_count": null,
   "id": "e1ac4456-92fe-4f0d-93b4-fbaee9f8d850",
   "metadata": {},
   "outputs": [],
   "source": [
    "we have to use the exception class while creating our custom exception and the reason for this is \n",
    "that our custom exception will inherit all the funtionality of the base Exception class.\n",
    "\n",
    "eg:\n",
    "    \n",
    "class MyException(Exception):\n",
    " \n",
    "    def __init__(self, value):\n",
    "        self.value = value\n",
    " \n",
    "    def __str__(self):\n",
    "        return(self.value)\n",
    " \n",
    " \n",
    "try:\n",
    "    raise(MyException(2))\n",
    " \n",
    "except MyException as e:\n",
    "    print('Exception occurred: ', e.value)"
   ]
  },
  {
   "cell_type": "markdown",
   "id": "86ed1a16-c5e5-41fc-b774-4e71ec810365",
   "metadata": {},
   "source": [
    "Q2. Write a python program to print Python Exception Hierarchy."
   ]
  },
  {
   "cell_type": "markdown",
   "id": "0751affa-bfa6-4672-baa0-474665990709",
   "metadata": {},
   "source": [
    "For getting the exception hierarchy, we will use inspect module in Python.\n",
    "\n",
    "\n",
    "\n",
    "import inspect\n",
    "  \n",
    "def tree(cls, ind = 0):\n",
    "    print ('-' * ind, cls.__name__)\n",
    "    for i in cls.__subclasses__():\n",
    "        treeClass(i, ind + 3)\n",
    "  \n",
    "print(\"Hierarchy for Built-in exceptions is : \\n\")\n",
    "\n",
    "tree(BaseException)"
   ]
  },
  {
   "cell_type": "markdown",
   "id": "72f51b5d-2058-4b8a-92b6-fea028b7e413",
   "metadata": {},
   "source": [
    "Q3. What errors are defined in the ArithmeticError class? Explain any two with an example."
   ]
  },
  {
   "cell_type": "code",
   "execution_count": null,
   "id": "9e27185b-f177-4378-a44c-3996ffeac2c0",
   "metadata": {},
   "outputs": [],
   "source": [
    "we can get the all child classes of ArithmeticError by the below program,\n",
    "\n",
    "import inspect\n",
    "  \n",
    "def tree(cls, ind = 0):\n",
    "    print ('-' * ind, cls.__name__)\n",
    "    for i in cls.__subclasses__():\n",
    "        treeClass(i, ind + 3)\n",
    "  \n",
    "print(\"Hierarchy for Built-in ArithmeticError is : \\n\")\n",
    "\n",
    "tree(ArithmeticError)\n",
    "\n",
    "Some of the Arithmetic Error,\n",
    "Division by zero: infinite result obtained from finite numbers.\n",
    "Overflow: result too large to be expressed.\n",
    "Underflow: result so close to zero that some precision was lost.\n",
    "Invalid operation: result is not an expressible number.\n",
    "\n"
   ]
  },
  {
   "cell_type": "markdown",
   "id": "fefe640a-279e-481c-8481-551750a39611",
   "metadata": {},
   "source": [
    "Q4. Why LookupError class is used? Explain with an example KeyError and IndexError."
   ]
  },
  {
   "cell_type": "code",
   "execution_count": null,
   "id": "6f4669e1-4fcc-46c6-8e80-d978a6ac2393",
   "metadata": {},
   "outputs": [],
   "source": [
    "The LookupError exception is the base class for all exceptions that are raised when an index or a key is not found for a sequence or dictionary.\n",
    "\n",
    "\n",
    "when we access the dictionary with a key and the key is not found in the dictionary, then we will get KeyError. \n",
    "eg:\n",
    "di={1:1,2:2}\n",
    "di[3]\n",
    "\n",
    "when we access the list with an index and the index is not found in the list, then  we will get IndexError. \n",
    "l=[1,3,4]\n",
    "l[4]"
   ]
  },
  {
   "cell_type": "markdown",
   "id": "07ce8c7a-85cc-4b0c-abce-6373160edcaa",
   "metadata": {},
   "source": [
    "Q5. Explain ImportError. What is ModuleNotFoundError?"
   ]
  },
  {
   "cell_type": "code",
   "execution_count": null,
   "id": "f5dd2743-8711-4f8a-a151-4eeb909abff3",
   "metadata": {},
   "outputs": [],
   "source": [
    "ImportError is raised when an import statement has not successfully imported the specified module.\n",
    "\n",
    "eg:\n",
    "try :\n",
    "    import sky\n",
    "except ImportError as e : \n",
    "    print(e)\n",
    "    \n",
    "The 'ModuleNotFoundError' error is a syntax error that appears when the import \n",
    "statement cannot find the file at the declared path. \n",
    "    \n",
    "eg:\n",
    "    import so"
   ]
  },
  {
   "cell_type": "markdown",
   "id": "e7373dcd-e7f8-435c-8b4d-2b90be24d4b4",
   "metadata": {},
   "source": [
    "Q6. List down some best practices for exception handling in python."
   ]
  },
  {
   "cell_type": "code",
   "execution_count": null,
   "id": "d297aa7f-0164-4aa1-91fe-715beb10415b",
   "metadata": {},
   "outputs": [],
   "source": [
    "Some of the best practices for exception handling,\n",
    "1. We should keep only exception prone statements in try block to avoid the not reachable statements.\n",
    "2. We should handle exceptions from most specific exception to generic exception.\n",
    "    eg:\n",
    "        try :\n",
    "            with open(\"test.txt\" , 'r') as f :\n",
    "                f.read()\n",
    "        except FileNotFoundError as e :\n",
    "                print(\"test \" , e)\n",
    "        except Exception as e :\n",
    "                print(\"this is my file not found type error \" , e)\n",
    "                \n",
    "3. As a responsible programmer we should close the resources that we open as a part of try block.\n",
    "\n",
    "eg:\n",
    "        \n",
    "try:\n",
    "    f = open(\"file\", \"r\")\n",
    "    try:\n",
    "        f.write('Hello World!')   \n",
    "    finally:\n",
    "        f.close()\n",
    "except IOError:\n",
    "    print ('oops!')\n",
    "        "
   ]
  }
 ],
 "metadata": {
  "kernelspec": {
   "display_name": "Python 3 (ipykernel)",
   "language": "python",
   "name": "python3"
  },
  "language_info": {
   "codemirror_mode": {
    "name": "ipython",
    "version": 3
   },
   "file_extension": ".py",
   "mimetype": "text/x-python",
   "name": "python",
   "nbconvert_exporter": "python",
   "pygments_lexer": "ipython3",
   "version": "3.10.8"
  }
 },
 "nbformat": 4,
 "nbformat_minor": 5
}
