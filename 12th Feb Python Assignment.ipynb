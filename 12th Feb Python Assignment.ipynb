{
 "cells": [
  {
   "cell_type": "markdown",
   "id": "1556e262-0aa1-419c-b414-3d035f542502",
   "metadata": {},
   "source": [
    "Q1. What is an Exception in python? Write the difference between Exceptions and syntax errors"
   ]
  },
  {
   "cell_type": "markdown",
   "id": "cbce4755-fecf-4d58-9ae7-e92a10e7f3a3",
   "metadata": {},
   "source": [
    "Exception:\n",
    "    Exception in python is an unwanted event that occur at runtime and distrupt the normal execution of the program.\n",
    "    \n",
    "The major difference between iexception and syntax error is that exception occur at runtime where as syntax errors happen at compile time."
   ]
  },
  {
   "cell_type": "markdown",
   "id": "5d74b658-a3be-4e52-ba3f-f0b20bafaedc",
   "metadata": {},
   "source": [
    "Q2. What happens when an exception is not handled? Explain withan example"
   ]
  },
  {
   "cell_type": "code",
   "execution_count": null,
   "id": "18b5c824-9b9f-400b-9207-4971700d1f63",
   "metadata": {},
   "outputs": [],
   "source": [
    "If an exception occurs and if we are not handling then this lead to abnormal termination of the program.\n",
    "\n",
    "eg:\n",
    "    print(10/0)\n",
    "    \n",
    "\n",
    "    this statement will raise exception at runtime and program will terminate abnormally."
   ]
  },
  {
   "cell_type": "code",
   "execution_count": null,
   "id": "06191b9e-b1ea-4eb6-881d-33189754c05c",
   "metadata": {},
   "outputs": [],
   "source": [
    "Q3. Which Python statements are used to catch and handle exceptions? Explain with an example"
   ]
  },
  {
   "cell_type": "code",
   "execution_count": null,
   "id": "3293af33-a9c5-448b-ad99-9462436406ff",
   "metadata": {},
   "outputs": [],
   "source": [
    "Generally, we use 'try' and 'except' statements to handle the exception\n",
    "\n",
    "eg:\n",
    "    try:\n",
    "        print(10/0)\n",
    "    except:\n",
    "        print(\"An exception occurred\")\n",
    "        \n",
    "        \n",
    "We use 'try' block to enclose the exception prone statements, where as 'execpt' block use to catch the exceptions.       "
   ]
  },
  {
   "cell_type": "code",
   "execution_count": null,
   "id": "29321c67-3355-4f2c-b6bc-bbba4a44ab07",
   "metadata": {},
   "outputs": [],
   "source": [
    "Q4. Explain with an example:\n",
    "\n",
    " a> try and else\n",
    " b> finally\n",
    " c> raise"
   ]
  },
  {
   "cell_type": "code",
   "execution_count": null,
   "id": "7b6df5f9-e820-4735-a847-0b571e9442aa",
   "metadata": {},
   "outputs": [],
   "source": [
    "try-> We use 'try' block to enclose the exception prone statements and else block we will use when we want to perform some operation no exception occured in the try block.\n",
    "\n",
    "eg:\n",
    "        try:\n",
    "            print(10/0)\n",
    "        except:\n",
    "            print(\"An exception occurred\")\n",
    "        else:\n",
    "            print(\"No error occured\")\n",
    "            \n",
    "            \n",
    "finally-> finally block will be executed always whether exception occured or not.\n",
    "\n",
    "eg:\n",
    "        try:\n",
    "            print(10/0)\n",
    "        except:\n",
    "            print(\"An exception occurred\")\n",
    "            \n",
    "        finally:\n",
    "            print(\"Always execute\")\n",
    "            \n",
    "\n",
    "raise-> we use 'raise' statement to yield our own customized exception.\n",
    "\n",
    "eg:\n",
    "    if x < 0:\n",
    "    raise Exception(\"negative number\")\n"
   ]
  },
  {
   "cell_type": "code",
   "execution_count": null,
   "id": "68a28954-3365-4843-ab75-566a624c0b4c",
   "metadata": {},
   "outputs": [],
   "source": [
    "Q5. What are Custom Exceptions in python? Why do we need Custom Exceptions? Explain with an example"
   ]
  },
  {
   "cell_type": "markdown",
   "id": "f475ffb7-79b5-4427-8818-b01f88cbda7e",
   "metadata": {},
   "source": [
    "Custom exception are exceptions that we use these exception when predefined exceptions don't fullfill our requirements.\n",
    "\n",
    "eg:\n",
    "class MyException(Exception):\n",
    " \n",
    "    def __init__(self, value):\n",
    "        self.value = value\n",
    " \n",
    "    def __str__(self):\n",
    "        return(self.value)\n",
    " \n",
    " \n",
    "try:\n",
    "    raise(MyException(2))\n",
    " \n",
    "except MyException as e:\n",
    "    print('Exception occurred: ', e.value)"
   ]
  },
  {
   "cell_type": "code",
   "execution_count": null,
   "id": "252674e1-59c1-4501-a09d-75107e335fd6",
   "metadata": {},
   "outputs": [],
   "source": [
    "Q6. Create custom exception clss. Use this class to handle an exception."
   ]
  },
  {
   "cell_type": "code",
   "execution_count": 6,
   "id": "d9edda08-f933-46b3-a22c-c429a83e0b31",
   "metadata": {},
   "outputs": [
    {
     "name": "stdout",
     "output_type": "stream",
     "text": [
      "Exception occurred:  2\n"
     ]
    }
   ],
   "source": [
    "class MyException(Exception):\n",
    " \n",
    "    def __init__(self, value):\n",
    "        self.value = value\n",
    " \n",
    "    def __str__(self):\n",
    "        return(self.value)\n",
    " \n",
    " \n",
    "try:\n",
    "    raise(MyException(2))\n",
    " \n",
    "except MyException as e:\n",
    "    print('Exception occurred: ', e.value)"
   ]
  }
 ],
 "metadata": {
  "kernelspec": {
   "display_name": "Python 3 (ipykernel)",
   "language": "python",
   "name": "python3"
  },
  "language_info": {
   "codemirror_mode": {
    "name": "ipython",
    "version": 3
   },
   "file_extension": ".py",
   "mimetype": "text/x-python",
   "name": "python",
   "nbconvert_exporter": "python",
   "pygments_lexer": "ipython3",
   "version": "3.10.8"
  }
 },
 "nbformat": 4,
 "nbformat_minor": 5
}
