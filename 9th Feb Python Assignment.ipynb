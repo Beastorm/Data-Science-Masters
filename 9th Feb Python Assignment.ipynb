{
 "cells": [
  {
   "cell_type": "markdown",
   "id": "22a5c53f-d17a-44af-a41c-13c0d8319164",
   "metadata": {},
   "source": [
    "Q1, Create a vehicle class with an init method having instance variables as name_of_vehicle, max_speed\n",
    "and average_of_vehicle."
   ]
  },
  {
   "cell_type": "code",
   "execution_count": 5,
   "id": "13c6e028-a48c-4270-bdc3-35ca94cb1175",
   "metadata": {},
   "outputs": [
    {
     "name": "stdout",
     "output_type": "stream",
     "text": [
      "ADB, 100, 23\n"
     ]
    }
   ],
   "source": [
    "class Vehicle:\n",
    "    def __init__(self, name_of_vehicle,max_speed,average_of_vehicle):\n",
    "        \n",
    "        self.name_of_vehicle=name_of_vehicle\n",
    "        self.max_speed=max_speed\n",
    "        self.average_of_vehicle=average_of_vehicle\n",
    "     \n",
    "    def __str__(self):\n",
    "        return self.name_of_vehicle +\", \"+ str(self.max_speed) +\", \"+ str(self.average_of_vehicle)\n",
    "\n",
    "v=Vehicle(\"ADB\",100,23)\n",
    "print(v)"
   ]
  },
  {
   "cell_type": "markdown",
   "id": "11e407b9-3bbe-4300-90c9-f1f9953947c5",
   "metadata": {},
   "source": [
    "Q2. Create a child class car from the vehicle class created in Que 1, which will inherit the vehicle class.\n",
    "Create a method named seating_capacity which takes capacity as an argument and returns the name of\n",
    "the vehicle and its seating capacity."
   ]
  },
  {
   "cell_type": "code",
   "execution_count": 13,
   "id": "aeec7277-124c-404a-b09d-9f778a52bae2",
   "metadata": {},
   "outputs": [
    {
     "data": {
      "text/plain": [
       "'ADB, 5'"
      ]
     },
     "execution_count": 13,
     "metadata": {},
     "output_type": "execute_result"
    }
   ],
   "source": [
    "class Auto(Vehicle):\n",
    "    \n",
    "    \n",
    "    def __init__(self, name_of_vehicle,max_speed,average_of_vehicle):\n",
    "        \n",
    "        super().__init__(name_of_vehicle,max_speed,average_of_vehicle)\n",
    "    \n",
    "    def seating_capacity(self,seating_capacity):\n",
    "        self.seating_capacity=seating_capacity\n",
    "        return self.name_of_vehicle +\", \"+ str(seating_capacity)\n",
    "    \n",
    "a= Auto(\"ADB\",100,23)\n",
    "\n",
    "a.seating_capacity(5)"
   ]
  },
  {
   "cell_type": "markdown",
   "id": "12b75eed-e7c9-493b-9bc1-7e513a0e9d5f",
   "metadata": {},
   "source": [
    "Q3. What is multiple inheritance? Write a python code to demonstrate multiple inheritance."
   ]
  },
  {
   "cell_type": "code",
   "execution_count": null,
   "id": "733f3bcc-d784-40ad-b447-b11a428867f7",
   "metadata": {},
   "outputs": [],
   "source": [
    "Multiple Inheritence:\n",
    "    when a class acquire state and behaviour from more than one classes is nothing but multiple inheritance.\n",
    "    \n",
    "    eg:\n",
    "        class A:\n",
    "            print(\"Inside class A\")\n",
    "        class B:\n",
    "            print(\"Inside class B\")\n",
    "        class X(A,B):\n",
    "            print(\"Inside class C\")\n",
    "            \n",
    "            \n",
    "                     "
   ]
  },
  {
   "cell_type": "markdown",
   "id": "6993b370-7478-40c6-a976-0d5a8df54249",
   "metadata": {},
   "source": [
    "Q4. What are getter and setter in python? Create a class and create a getter and a setter method in this class.        "
   ]
  },
  {
   "cell_type": "markdown",
   "id": "a62b16d8-918e-4c97-8247-43eb5be4659a",
   "metadata": {},
   "source": [
    "Getter is a concept in encapsulation as part of the OOps paradigm, which allows us to get the value of the required member of an object.\n",
    "\n",
    "Setter is a concept in encapsulation as part of the OOps paradigm, which allows us to set the value of the required member of an object.\n",
    "\n",
    "\n",
    "\n",
    "class Employee:\n",
    "    \n",
    "    def __init__(self, name , employeeId):\n",
    "        self.__name = name\n",
    "        self.__employeeId = employeeId\n",
    "        \n",
    "    @property\n",
    "    def name(self):\n",
    "        return self.__name\n",
    "    \n",
    "    @name.setter\n",
    "    def name_set(self , name):\n",
    "      \n",
    "        self.__name = name\n",
    "\n",
    "e = Employee(\"Sky\",34521)\n",
    "e.name_set=\"pky\"\n",
    "\n",
    "print(e.name)"
   ]
  },
  {
   "cell_type": "markdown",
   "id": "a1c0c2af-c657-416f-95c8-03372fc4f4a1",
   "metadata": {},
   "source": [
    "Q5.What is method overriding in python? Write a python code to demonstrate method overriding.\n",
    "    "
   ]
  },
  {
   "cell_type": "markdown",
   "id": "5cca39d2-c77e-4550-a84f-967fc7acaba9",
   "metadata": {},
   "source": [
    "Method Overrinding:\n",
    "Method overriding is nothing but redefining the parent method in child class but rules for overriding are that name should be same and as well as should accept same number of arguments.\n",
    "    \n",
    "eg:\n",
    "\n",
    "class Person:\n",
    "    def location(self):\n",
    "        print(\"In Person\")\n",
    "        \n",
    "class Employee:\n",
    "    def location(self):\n",
    "        print(\"In Employee\")\n",
    "        \n",
    "        \n",
    "e= Employee()\n",
    "e.location()\n",
    "\n",
    "    "
   ]
  }
 ],
 "metadata": {
  "kernelspec": {
   "display_name": "Python 3 (ipykernel)",
   "language": "python",
   "name": "python3"
  },
  "language_info": {
   "codemirror_mode": {
    "name": "ipython",
    "version": 3
   },
   "file_extension": ".py",
   "mimetype": "text/x-python",
   "name": "python",
   "nbconvert_exporter": "python",
   "pygments_lexer": "ipython3",
   "version": "3.10.8"
  }
 },
 "nbformat": 4,
 "nbformat_minor": 5
}
