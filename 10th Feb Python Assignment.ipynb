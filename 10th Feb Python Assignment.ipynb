{
 "cells": [
  {
   "cell_type": "markdown",
   "id": "4c27a67a-3e0a-48ed-9b2f-86ec5b7e04ff",
   "metadata": {},
   "source": [
    "Q1. Which function is used to open a file? What are the different modes of opening a file? Explain each mode\n",
    "of file opening."
   ]
  },
  {
   "cell_type": "markdown",
   "id": "5ef75b1b-989f-425d-a19e-dbe16019b9cd",
   "metadata": {},
   "source": [
    "we use open() function to open the specified file in a particular mode.\n",
    "\n",
    "f= open(\"mytxt.txt\",\"r\")\n",
    "print(f.read())\n",
    "\n",
    "r mode: To read from file, if the specified file not exist we will get error.\n",
    "w mode: To write into file. It wil create if file does not exist. \n",
    "a mode: To write into file from the end of the \n",
    "x mode: To create the specified file. It will throw error if file already exist.\n",
    "    \n",
    "t mode: To open file in text mode and it is default mode.\n",
    "b mode: To open file in binary mode. like images, audio etc.   "
   ]
  },
  {
   "cell_type": "markdown",
   "id": "efca3143-ae2f-4650-aab0-b95469969d68",
   "metadata": {},
   "source": [
    "Q2. Why close() function is used? Why is it important to close a file?"
   ]
  },
  {
   "cell_type": "markdown",
   "id": "3a741206-33c0-4b16-b94a-d848b9e89cd8",
   "metadata": {},
   "source": [
    "we use the close() function to close the file as well as it flushes the buffer.\n",
    "eg:\n",
    "    f= open(\"mytxt.txt\", \"w\")\n",
    "    f.write(\"we use close() function to close the file as well as it flushes the buffer\")\n",
    "    f.close()\n",
    "\n",
    "\n",
    "The file is an important resource it's the programmer's responsibility to close the resource if they don't need it anymore."
   ]
  },
  {
   "cell_type": "markdown",
   "id": "0ff3156b-cd39-461c-99c2-cc3d896edad8",
   "metadata": {},
   "source": [
    "Q3. Write a python program to create a text file. Write ‘I want to become a Data Scientist’ in that file. Then\n",
    "close the file. Open this file and read the content of the file."
   ]
  },
  {
   "cell_type": "markdown",
   "id": "26168b69-23fa-4f0a-a874-f5dafc348906",
   "metadata": {},
   "source": [
    "f= open(\"myText.txt\",\"w\")\n",
    "\n",
    "f.write(\"I want to become a Data Scientist\")\n",
    "f.close()\n",
    "\n",
    "\n",
    "fr= open(\"myText.txt\",\"r\")\n",
    "\n",
    "print(fr.read())\n"
   ]
  },
  {
   "cell_type": "markdown",
   "id": "939103e8-d4a8-4005-979f-03e00a93fadd",
   "metadata": {},
   "source": [
    "Q4. Explain the following with python code: read(), readline() and readlines()."
   ]
  },
  {
   "cell_type": "markdown",
   "id": "8e30309e-0621-4a1a-8899-fe0703e077c4",
   "metadata": {},
   "source": [
    "read(): we use this to read file content at once and also we specify the no of bytes we want to be read from the file.\n",
    "eg:\n",
    "f= open(\"myText.txt\", \"w\")\n",
    "\n",
    "f.write(\"I want to become a Data Scientist\")\n",
    "f.close()\n",
    "\n",
    "\n",
    "fr= open(\"myText.txt\", \"r\")\n",
    "\n",
    "print(fr.read())\n",
    "\n",
    "readline(): we use this function to read file content line-wise.\n",
    "eg:\n",
    "fr= open(\"myText.txt\", \"r\")\n",
    "\n",
    "print(fr.readline())\n",
    "\n",
    "\n",
    "readlines(): we use this function to read file content in multiple lines manners and return as a list where each line is a list item.\n",
    "eg:\n",
    "fr= open(\"myText.txt\", \"r\")\n",
    "\n",
    "print(fr.readlines())\n"
   ]
  },
  {
   "cell_type": "markdown",
   "id": "94be976f-2414-4f90-8aa8-8c39f91cdf2d",
   "metadata": {},
   "source": [
    "Q5. Explain why with statement is used with open(). What is the advantage of using with statement and\n",
    "open() together?"
   ]
  },
  {
   "cell_type": "markdown",
   "id": "b7945f57-0927-4ffc-8ba2-54da7e4ef503",
   "metadata": {},
   "source": [
    "with statement is used in exception handling to make the code cleaner and much more readable. \n",
    "\n",
    "we use with statement with open so that If any exception occurs then any resources acquired as part of with statement will release automatically.\n",
    "\n",
    "\n",
    "eg:\n",
    "\n",
    "with open('myfile', 'w') as file:\n",
    "    file.write('hello world')"
   ]
  },
  {
   "cell_type": "markdown",
   "id": "085ce914-9e1f-43c9-801b-760a562dc609",
   "metadata": {},
   "source": [
    "Q6. Explain the write() and writelines() functions. Give a suitable example."
   ]
  },
  {
   "cell_type": "code",
   "execution_count": null,
   "id": "b705d413-9cb8-4f8c-ad63-248160a61a9e",
   "metadata": {},
   "outputs": [],
   "source": [
    "write:\n",
    "    we use the write function to write something into the specified file.\n",
    "    \n",
    "    eg:\n",
    "    with open('myfile', 'w') as file:\n",
    "    file.write('hello world')\n",
    "    \n",
    "    \n",
    "writelines:\n",
    "    we use writelines to write a list of items into the file and where each list item will be inserted in the file as a different line.\n",
    "    eg:\n",
    "    f = open(\"demo.txt\", \"a\")\n",
    "    f.writelines([\"See you\", \"Over and out.\"])\n",
    "    f.close()"
   ]
  }
 ],
 "metadata": {
  "kernelspec": {
   "display_name": "Python 3 (ipykernel)",
   "language": "python",
   "name": "python3"
  },
  "language_info": {
   "codemirror_mode": {
    "name": "ipython",
    "version": 3
   },
   "file_extension": ".py",
   "mimetype": "text/x-python",
   "name": "python",
   "nbconvert_exporter": "python",
   "pygments_lexer": "ipython3",
   "version": "3.10.8"
  }
 },
 "nbformat": 4,
 "nbformat_minor": 5
}
