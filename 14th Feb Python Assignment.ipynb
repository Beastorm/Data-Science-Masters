{
 "cells": [
  {
   "cell_type": "code",
   "execution_count": null,
   "id": "948f7cf3-4e35-4a52-971a-b4264e0362e4",
   "metadata": {},
   "outputs": [],
   "source": [
    "Q1. What is multithreading in python? Why is it used? Name the module used to handle threads in python"
   ]
  },
  {
   "cell_type": "code",
   "execution_count": null,
   "id": "75647252-f3ed-4c0c-b634-d86b6eaa3f11",
   "metadata": {},
   "outputs": [],
   "source": [
    "Multithreading is the concept of concurrency, where multiple tasks of the same program execute concurrently.\n",
    "We use threading or thread module to perform Multithreading in Python.\n",
    "\n",
    "eg:\n",
    "    \n",
    "import threading\n",
    "  \n",
    "def square(n):\n",
    " \n",
    "    print(\"square: {}\" .format(n * n))\n",
    " \n",
    " \n",
    "if __name__ ==\"__main__\":\n",
    "   \n",
    "    t = threading.Thread(target=square, args=(1,))\n",
    "    t.start()\n",
    "\n",
    "    t.join()    "
   ]
  },
  {
   "cell_type": "code",
   "execution_count": null,
   "id": "827b6e25-7f53-4171-aeed-78ff5e02cece",
   "metadata": {},
   "outputs": [],
   "source": [
    "Q2 Why threading module used? Write the use of the following functions\n",
    " 1> activeCount\n",
    " 2> currentThread\n",
    " 3> enumerate"
   ]
  },
  {
   "cell_type": "code",
   "execution_count": null,
   "id": "585fa223-584c-4e36-b244-5496ddcc8081",
   "metadata": {},
   "outputs": [],
   "source": [
    "we use threading module to create our own thread in Python.\n",
    "\n",
    "eg:\n",
    "import threading\n",
    "  \n",
    "def square(n):\n",
    " \n",
    "    print(\"square: {}\" .format(n * n))\n",
    " \n",
    " \n",
    "if __name__ ==\"__main__\":\n",
    "   \n",
    "    t = threading.Thread(target=square, args=(1,))\n",
    "    t.start()\n",
    "\n",
    "    t.join() \n",
    "    \n",
    "    \n",
    "\n",
    "threading.activeCount() − Returns the number of thread that are currently in active state.\n",
    "\n",
    "threading.currentThread() − Returns the number of thread objects in the caller.\n",
    "\n",
    "threading.enumerate() − Returns a list of all thread objects that are currently active state.    \n",
    "    "
   ]
  },
  {
   "cell_type": "code",
   "execution_count": null,
   "id": "cad0d911-e2a3-44de-b4bb-b22d89d1300d",
   "metadata": {},
   "outputs": [],
   "source": [
    "Q3. Explain the following functions,\n",
    "1> run\n",
    "2> start\n",
    "3> join\n",
    "4> isAlive"
   ]
  },
  {
   "cell_type": "code",
   "execution_count": null,
   "id": "b92b47ef-6931-46cb-ace5-7b7a42358d74",
   "metadata": {},
   "outputs": [],
   "source": [
    "run() −> This method is the entry point for a thread.\n",
    "\n",
    "start() −> This method starts a thread by calling the run method.\n",
    "\n",
    "join() −> This waits for threads to terminate.\n",
    "\n",
    "isAlive() −> This method checks whether a thread is still executing."
   ]
  },
  {
   "cell_type": "code",
   "execution_count": null,
   "id": "3932ced8-6f29-456c-bf6c-52c4614c796d",
   "metadata": {},
   "outputs": [],
   "source": [
    "Q4.Write a python program to create two threads. Thread one must print the list of squares and thread\n",
    "two must print the list of cubes."
   ]
  },
  {
   "cell_type": "code",
   "execution_count": 2,
   "id": "23bfd5dd-8735-4eaf-9e48-23f4df3c23ef",
   "metadata": {},
   "outputs": [
    {
     "name": "stdout",
     "output_type": "stream",
     "text": [
      "[4, 16, 25, 36]\n",
      "[8, 64, 125, 216]\n"
     ]
    }
   ],
   "source": [
    "import threading\n",
    "  \n",
    "def square(l):\n",
    "     \n",
    "    sl=[]   \n",
    "    for i in l:\n",
    "        sl.append(i*i)\n",
    "        \n",
    "    print(sl)    \n",
    " \n",
    "def cube(l):\n",
    " \n",
    "    cl=[]   \n",
    "    for i in l:\n",
    "        cl.append(i*i*i)\n",
    "        \n",
    "    print(cl) \n",
    "\n",
    "if __name__ ==\"__main__\":\n",
    "   \n",
    "    list=[2,4,5,6]\n",
    "    t = threading.Thread(target=square, args=(list,))\n",
    "    t1 = threading.Thread(target=cube, args=(list,))\n",
    "    t.start()\n",
    "    t1.start()\n",
    "\n",
    "    t.join()\n",
    "    t1.join()"
   ]
  },
  {
   "cell_type": "code",
   "execution_count": null,
   "id": "cdbb374e-a8b3-4ec4-bdde-875d6788d7fe",
   "metadata": {},
   "outputs": [],
   "source": [
    "Q5. State advantages and disadvantages of multithreading"
   ]
  },
  {
   "cell_type": "code",
   "execution_count": null,
   "id": "4da7cc66-bcf1-47ba-ab2e-aeef34a50c74",
   "metadata": {},
   "outputs": [],
   "source": [
    "There are many advantages of using multithreading as follows,\n",
    "\n",
    "1. We can achieve the overall throughput of the system.\n",
    "2. Our program can utilize the computation resources of the system.\n",
    "3. We can utilize the multiprocessor architecture of the underlying system and hence achieve greater performance.\n",
    "\n",
    "Disadvantages of Multithreading,\n",
    "\n",
    "1. It needs more careful while implementing synchronization.\n",
    "2. It can consume a large space of stocks of blocked threads.\n",
    "3. It imposes the overhead of context switching.\n",
    "4. If synchronization is not handled carefully it can lead to a deadlock like of situation.\n"
   ]
  },
  {
   "cell_type": "code",
   "execution_count": null,
   "id": "0031e272-6f64-4398-95d7-ef567fdc106b",
   "metadata": {},
   "outputs": [],
   "source": [
    "Q6. Explain deadlocks and race conditions."
   ]
  },
  {
   "cell_type": "code",
   "execution_count": null,
   "id": "8c8ca5f2-8a46-4c45-9d68-530030e6ea0e",
   "metadata": {},
   "outputs": [],
   "source": [
    "Deadlocks: When two threads are waiting for each other for indefinite amount of time directly or indirectly,\n",
    "then this phenomenon is called deadlock situation.\n",
    "eg:\n",
    "    If thread t1 acquired resource r1 and it also needs resource r2 for \n",
    "    it to complete its task. But the resource r2 is acquired by thread t2 which is \n",
    "    waiting for resource r1.\n",
    "\n",
    "Race condition:\n",
    "    When two threads are competing with each other causing data corruption or data inconsistency issue."
   ]
  }
 ],
 "metadata": {
  "kernelspec": {
   "display_name": "Python 3 (ipykernel)",
   "language": "python",
   "name": "python3"
  },
  "language_info": {
   "codemirror_mode": {
    "name": "ipython",
    "version": 3
   },
   "file_extension": ".py",
   "mimetype": "text/x-python",
   "name": "python",
   "nbconvert_exporter": "python",
   "pygments_lexer": "ipython3",
   "version": "3.10.8"
  }
 },
 "nbformat": 4,
 "nbformat_minor": 5
}
